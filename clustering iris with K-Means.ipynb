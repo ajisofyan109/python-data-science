{
  "nbformat": 4,
  "nbformat_minor": 0,
  "metadata": {
    "kernelspec": {
      "display_name": "Python 3",
      "language": "python",
      "name": "python3"
    },
    "language_info": {
      "codemirror_mode": {
        "name": "ipython",
        "version": 3
      },
      "file_extension": ".py",
      "mimetype": "text/x-python",
      "name": "python",
      "nbconvert_exporter": "python",
      "pygments_lexer": "ipython3",
      "version": "3.8.5"
    },
    "colab": {
      "name": "tugas_8.ipynb",
      "provenance": [],
      "collapsed_sections": [],
      "include_colab_link": true
    }
  },
  "cells": [
    {
      "cell_type": "markdown",
      "metadata": {
        "id": "view-in-github",
        "colab_type": "text"
      },
      "source": [
        "<a href=\"https://colab.research.google.com/github/ajisofyan109/python-data-science/blob/main/clustering%20iris%20with%20K-Means.ipynb\" target=\"_parent\"><img src=\"https://colab.research.google.com/assets/colab-badge.svg\" alt=\"Open In Colab\"/></a>"
      ]
    },
    {
      "cell_type": "code",
      "metadata": {
        "id": "5XKAMJKAWAVU"
      },
      "source": [
        "import pandas as pd\n",
        "import numpy as np\n",
        "import matplotlib.pyplot as plt \n",
        "import seaborn as sns\n",
        "from sklearn.cluster import KMeans \n",
        "from sklearn.metrics import silhouette_score\n",
        "from sklearn.preprocessing import MinMaxScaler\n",
        "from sklearn.preprocessing import StandardScaler"
      ],
      "execution_count": 2,
      "outputs": []
    },
    {
      "cell_type": "code",
      "metadata": {
        "id": "eU_OakniWAV4"
      },
      "source": [
        "data_iris = pd.read_csv(\"/Iris.csv\")\n",
        "data = data_iris.iloc[:, [0, 1, 2, 3]].values"
      ],
      "execution_count": 10,
      "outputs": []
    },
    {
      "cell_type": "code",
      "source": [
        "data"
      ],
      "metadata": {
        "colab": {
          "base_uri": "https://localhost:8080/"
        },
        "id": "aIKA4vwIarAE",
        "outputId": "cc80e8f1-9a85-47e2-fbaa-57192f439e73"
      },
      "execution_count": 11,
      "outputs": [
        {
          "output_type": "execute_result",
          "data": {
            "text/plain": [
              "array([[  1. ,   5.1,   3.5,   1.4],\n",
              "       [  2. ,   4.9,   3. ,   1.4],\n",
              "       [  3. ,   4.7,   3.2,   1.3],\n",
              "       [  4. ,   4.6,   3.1,   1.5],\n",
              "       [  5. ,   5. ,   3.6,   1.4],\n",
              "       [  6. ,   5.4,   3.9,   1.7],\n",
              "       [  7. ,   4.6,   3.4,   1.4],\n",
              "       [  8. ,   5. ,   3.4,   1.5],\n",
              "       [  9. ,   4.4,   2.9,   1.4],\n",
              "       [ 10. ,   4.9,   3.1,   1.5],\n",
              "       [ 11. ,   5.4,   3.7,   1.5],\n",
              "       [ 12. ,   4.8,   3.4,   1.6],\n",
              "       [ 13. ,   4.8,   3. ,   1.4],\n",
              "       [ 14. ,   4.3,   3. ,   1.1],\n",
              "       [ 15. ,   5.8,   4. ,   1.2],\n",
              "       [ 16. ,   5.7,   4.4,   1.5],\n",
              "       [ 17. ,   5.4,   3.9,   1.3],\n",
              "       [ 18. ,   5.1,   3.5,   1.4],\n",
              "       [ 19. ,   5.7,   3.8,   1.7],\n",
              "       [ 20. ,   5.1,   3.8,   1.5],\n",
              "       [ 21. ,   5.4,   3.4,   1.7],\n",
              "       [ 22. ,   5.1,   3.7,   1.5],\n",
              "       [ 23. ,   4.6,   3.6,   1. ],\n",
              "       [ 24. ,   5.1,   3.3,   1.7],\n",
              "       [ 25. ,   4.8,   3.4,   1.9],\n",
              "       [ 26. ,   5. ,   3. ,   1.6],\n",
              "       [ 27. ,   5. ,   3.4,   1.6],\n",
              "       [ 28. ,   5.2,   3.5,   1.5],\n",
              "       [ 29. ,   5.2,   3.4,   1.4],\n",
              "       [ 30. ,   4.7,   3.2,   1.6],\n",
              "       [ 31. ,   4.8,   3.1,   1.6],\n",
              "       [ 32. ,   5.4,   3.4,   1.5],\n",
              "       [ 33. ,   5.2,   4.1,   1.5],\n",
              "       [ 34. ,   5.5,   4.2,   1.4],\n",
              "       [ 35. ,   4.9,   3.1,   1.5],\n",
              "       [ 36. ,   5. ,   3.2,   1.2],\n",
              "       [ 37. ,   5.5,   3.5,   1.3],\n",
              "       [ 38. ,   4.9,   3.1,   1.5],\n",
              "       [ 39. ,   4.4,   3. ,   1.3],\n",
              "       [ 40. ,   5.1,   3.4,   1.5],\n",
              "       [ 41. ,   5. ,   3.5,   1.3],\n",
              "       [ 42. ,   4.5,   2.3,   1.3],\n",
              "       [ 43. ,   4.4,   3.2,   1.3],\n",
              "       [ 44. ,   5. ,   3.5,   1.6],\n",
              "       [ 45. ,   5.1,   3.8,   1.9],\n",
              "       [ 46. ,   4.8,   3. ,   1.4],\n",
              "       [ 47. ,   5.1,   3.8,   1.6],\n",
              "       [ 48. ,   4.6,   3.2,   1.4],\n",
              "       [ 49. ,   5.3,   3.7,   1.5],\n",
              "       [ 50. ,   5. ,   3.3,   1.4],\n",
              "       [ 51. ,   7. ,   3.2,   4.7],\n",
              "       [ 52. ,   6.4,   3.2,   4.5],\n",
              "       [ 53. ,   6.9,   3.1,   4.9],\n",
              "       [ 54. ,   5.5,   2.3,   4. ],\n",
              "       [ 55. ,   6.5,   2.8,   4.6],\n",
              "       [ 56. ,   5.7,   2.8,   4.5],\n",
              "       [ 57. ,   6.3,   3.3,   4.7],\n",
              "       [ 58. ,   4.9,   2.4,   3.3],\n",
              "       [ 59. ,   6.6,   2.9,   4.6],\n",
              "       [ 60. ,   5.2,   2.7,   3.9],\n",
              "       [ 61. ,   5. ,   2. ,   3.5],\n",
              "       [ 62. ,   5.9,   3. ,   4.2],\n",
              "       [ 63. ,   6. ,   2.2,   4. ],\n",
              "       [ 64. ,   6.1,   2.9,   4.7],\n",
              "       [ 65. ,   5.6,   2.9,   3.6],\n",
              "       [ 66. ,   6.7,   3.1,   4.4],\n",
              "       [ 67. ,   5.6,   3. ,   4.5],\n",
              "       [ 68. ,   5.8,   2.7,   4.1],\n",
              "       [ 69. ,   6.2,   2.2,   4.5],\n",
              "       [ 70. ,   5.6,   2.5,   3.9],\n",
              "       [ 71. ,   5.9,   3.2,   4.8],\n",
              "       [ 72. ,   6.1,   2.8,   4. ],\n",
              "       [ 73. ,   6.3,   2.5,   4.9],\n",
              "       [ 74. ,   6.1,   2.8,   4.7],\n",
              "       [ 75. ,   6.4,   2.9,   4.3],\n",
              "       [ 76. ,   6.6,   3. ,   4.4],\n",
              "       [ 77. ,   6.8,   2.8,   4.8],\n",
              "       [ 78. ,   6.7,   3. ,   5. ],\n",
              "       [ 79. ,   6. ,   2.9,   4.5],\n",
              "       [ 80. ,   5.7,   2.6,   3.5],\n",
              "       [ 81. ,   5.5,   2.4,   3.8],\n",
              "       [ 82. ,   5.5,   2.4,   3.7],\n",
              "       [ 83. ,   5.8,   2.7,   3.9],\n",
              "       [ 84. ,   6. ,   2.7,   5.1],\n",
              "       [ 85. ,   5.4,   3. ,   4.5],\n",
              "       [ 86. ,   6. ,   3.4,   4.5],\n",
              "       [ 87. ,   6.7,   3.1,   4.7],\n",
              "       [ 88. ,   6.3,   2.3,   4.4],\n",
              "       [ 89. ,   5.6,   3. ,   4.1],\n",
              "       [ 90. ,   5.5,   2.5,   4. ],\n",
              "       [ 91. ,   5.5,   2.6,   4.4],\n",
              "       [ 92. ,   6.1,   3. ,   4.6],\n",
              "       [ 93. ,   5.8,   2.6,   4. ],\n",
              "       [ 94. ,   5. ,   2.3,   3.3],\n",
              "       [ 95. ,   5.6,   2.7,   4.2],\n",
              "       [ 96. ,   5.7,   3. ,   4.2],\n",
              "       [ 97. ,   5.7,   2.9,   4.2],\n",
              "       [ 98. ,   6.2,   2.9,   4.3],\n",
              "       [ 99. ,   5.1,   2.5,   3. ],\n",
              "       [100. ,   5.7,   2.8,   4.1],\n",
              "       [101. ,   6.3,   3.3,   6. ],\n",
              "       [102. ,   5.8,   2.7,   5.1],\n",
              "       [103. ,   7.1,   3. ,   5.9],\n",
              "       [104. ,   6.3,   2.9,   5.6],\n",
              "       [105. ,   6.5,   3. ,   5.8],\n",
              "       [106. ,   7.6,   3. ,   6.6],\n",
              "       [107. ,   4.9,   2.5,   4.5],\n",
              "       [108. ,   7.3,   2.9,   6.3],\n",
              "       [109. ,   6.7,   2.5,   5.8],\n",
              "       [110. ,   7.2,   3.6,   6.1],\n",
              "       [111. ,   6.5,   3.2,   5.1],\n",
              "       [112. ,   6.4,   2.7,   5.3],\n",
              "       [113. ,   6.8,   3. ,   5.5],\n",
              "       [114. ,   5.7,   2.5,   5. ],\n",
              "       [115. ,   5.8,   2.8,   5.1],\n",
              "       [116. ,   6.4,   3.2,   5.3],\n",
              "       [117. ,   6.5,   3. ,   5.5],\n",
              "       [118. ,   7.7,   3.8,   6.7],\n",
              "       [119. ,   7.7,   2.6,   6.9],\n",
              "       [120. ,   6. ,   2.2,   5. ],\n",
              "       [121. ,   6.9,   3.2,   5.7],\n",
              "       [122. ,   5.6,   2.8,   4.9],\n",
              "       [123. ,   7.7,   2.8,   6.7],\n",
              "       [124. ,   6.3,   2.7,   4.9],\n",
              "       [125. ,   6.7,   3.3,   5.7],\n",
              "       [126. ,   7.2,   3.2,   6. ],\n",
              "       [127. ,   6.2,   2.8,   4.8],\n",
              "       [128. ,   6.1,   3. ,   4.9],\n",
              "       [129. ,   6.4,   2.8,   5.6],\n",
              "       [130. ,   7.2,   3. ,   5.8],\n",
              "       [131. ,   7.4,   2.8,   6.1],\n",
              "       [132. ,   7.9,   3.8,   6.4],\n",
              "       [133. ,   6.4,   2.8,   5.6],\n",
              "       [134. ,   6.3,   2.8,   5.1],\n",
              "       [135. ,   6.1,   2.6,   5.6],\n",
              "       [136. ,   7.7,   3. ,   6.1],\n",
              "       [137. ,   6.3,   3.4,   5.6],\n",
              "       [138. ,   6.4,   3.1,   5.5],\n",
              "       [139. ,   6. ,   3. ,   4.8],\n",
              "       [140. ,   6.9,   3.1,   5.4],\n",
              "       [141. ,   6.7,   3.1,   5.6],\n",
              "       [142. ,   6.9,   3.1,   5.1],\n",
              "       [143. ,   5.8,   2.7,   5.1],\n",
              "       [144. ,   6.8,   3.2,   5.9],\n",
              "       [145. ,   6.7,   3.3,   5.7],\n",
              "       [146. ,   6.7,   3. ,   5.2],\n",
              "       [147. ,   6.3,   2.5,   5. ],\n",
              "       [148. ,   6.5,   3. ,   5.2],\n",
              "       [149. ,   6.2,   3.4,   5.4],\n",
              "       [150. ,   5.9,   3. ,   5.1]])"
            ]
          },
          "metadata": {},
          "execution_count": 11
        }
      ]
    },
    {
      "cell_type": "code",
      "source": [
        ""
      ],
      "metadata": {
        "id": "dCfRZ2DmaVJW"
      },
      "execution_count": null,
      "outputs": []
    },
    {
      "cell_type": "code",
      "metadata": {
        "colab": {
          "base_uri": "https://localhost:8080/",
          "height": 423
        },
        "id": "_AUX8KLBWAV6",
        "outputId": "0123f4a2-51bb-49a0-e8af-47e2d041d2ec"
      },
      "source": [
        "data_iris"
      ],
      "execution_count": 12,
      "outputs": [
        {
          "output_type": "execute_result",
          "data": {
            "text/html": [
              "\n",
              "  <div id=\"df-f0a9ffe0-a238-4473-825a-1ac1fd5b68c4\">\n",
              "    <div class=\"colab-df-container\">\n",
              "      <div>\n",
              "<style scoped>\n",
              "    .dataframe tbody tr th:only-of-type {\n",
              "        vertical-align: middle;\n",
              "    }\n",
              "\n",
              "    .dataframe tbody tr th {\n",
              "        vertical-align: top;\n",
              "    }\n",
              "\n",
              "    .dataframe thead th {\n",
              "        text-align: right;\n",
              "    }\n",
              "</style>\n",
              "<table border=\"1\" class=\"dataframe\">\n",
              "  <thead>\n",
              "    <tr style=\"text-align: right;\">\n",
              "      <th></th>\n",
              "      <th>Id</th>\n",
              "      <th>SepalLengthCm</th>\n",
              "      <th>SepalWidthCm</th>\n",
              "      <th>PetalLengthCm</th>\n",
              "      <th>PetalWidthCm</th>\n",
              "      <th>Species</th>\n",
              "    </tr>\n",
              "  </thead>\n",
              "  <tbody>\n",
              "    <tr>\n",
              "      <th>0</th>\n",
              "      <td>1</td>\n",
              "      <td>5.1</td>\n",
              "      <td>3.5</td>\n",
              "      <td>1.4</td>\n",
              "      <td>0.2</td>\n",
              "      <td>Iris-setosa</td>\n",
              "    </tr>\n",
              "    <tr>\n",
              "      <th>1</th>\n",
              "      <td>2</td>\n",
              "      <td>4.9</td>\n",
              "      <td>3.0</td>\n",
              "      <td>1.4</td>\n",
              "      <td>0.2</td>\n",
              "      <td>Iris-setosa</td>\n",
              "    </tr>\n",
              "    <tr>\n",
              "      <th>2</th>\n",
              "      <td>3</td>\n",
              "      <td>4.7</td>\n",
              "      <td>3.2</td>\n",
              "      <td>1.3</td>\n",
              "      <td>0.2</td>\n",
              "      <td>Iris-setosa</td>\n",
              "    </tr>\n",
              "    <tr>\n",
              "      <th>3</th>\n",
              "      <td>4</td>\n",
              "      <td>4.6</td>\n",
              "      <td>3.1</td>\n",
              "      <td>1.5</td>\n",
              "      <td>0.2</td>\n",
              "      <td>Iris-setosa</td>\n",
              "    </tr>\n",
              "    <tr>\n",
              "      <th>4</th>\n",
              "      <td>5</td>\n",
              "      <td>5.0</td>\n",
              "      <td>3.6</td>\n",
              "      <td>1.4</td>\n",
              "      <td>0.2</td>\n",
              "      <td>Iris-setosa</td>\n",
              "    </tr>\n",
              "    <tr>\n",
              "      <th>...</th>\n",
              "      <td>...</td>\n",
              "      <td>...</td>\n",
              "      <td>...</td>\n",
              "      <td>...</td>\n",
              "      <td>...</td>\n",
              "      <td>...</td>\n",
              "    </tr>\n",
              "    <tr>\n",
              "      <th>145</th>\n",
              "      <td>146</td>\n",
              "      <td>6.7</td>\n",
              "      <td>3.0</td>\n",
              "      <td>5.2</td>\n",
              "      <td>2.3</td>\n",
              "      <td>Iris-virginica</td>\n",
              "    </tr>\n",
              "    <tr>\n",
              "      <th>146</th>\n",
              "      <td>147</td>\n",
              "      <td>6.3</td>\n",
              "      <td>2.5</td>\n",
              "      <td>5.0</td>\n",
              "      <td>1.9</td>\n",
              "      <td>Iris-virginica</td>\n",
              "    </tr>\n",
              "    <tr>\n",
              "      <th>147</th>\n",
              "      <td>148</td>\n",
              "      <td>6.5</td>\n",
              "      <td>3.0</td>\n",
              "      <td>5.2</td>\n",
              "      <td>2.0</td>\n",
              "      <td>Iris-virginica</td>\n",
              "    </tr>\n",
              "    <tr>\n",
              "      <th>148</th>\n",
              "      <td>149</td>\n",
              "      <td>6.2</td>\n",
              "      <td>3.4</td>\n",
              "      <td>5.4</td>\n",
              "      <td>2.3</td>\n",
              "      <td>Iris-virginica</td>\n",
              "    </tr>\n",
              "    <tr>\n",
              "      <th>149</th>\n",
              "      <td>150</td>\n",
              "      <td>5.9</td>\n",
              "      <td>3.0</td>\n",
              "      <td>5.1</td>\n",
              "      <td>1.8</td>\n",
              "      <td>Iris-virginica</td>\n",
              "    </tr>\n",
              "  </tbody>\n",
              "</table>\n",
              "<p>150 rows × 6 columns</p>\n",
              "</div>\n",
              "      <button class=\"colab-df-convert\" onclick=\"convertToInteractive('df-f0a9ffe0-a238-4473-825a-1ac1fd5b68c4')\"\n",
              "              title=\"Convert this dataframe to an interactive table.\"\n",
              "              style=\"display:none;\">\n",
              "        \n",
              "  <svg xmlns=\"http://www.w3.org/2000/svg\" height=\"24px\"viewBox=\"0 0 24 24\"\n",
              "       width=\"24px\">\n",
              "    <path d=\"M0 0h24v24H0V0z\" fill=\"none\"/>\n",
              "    <path d=\"M18.56 5.44l.94 2.06.94-2.06 2.06-.94-2.06-.94-.94-2.06-.94 2.06-2.06.94zm-11 1L8.5 8.5l.94-2.06 2.06-.94-2.06-.94L8.5 2.5l-.94 2.06-2.06.94zm10 10l.94 2.06.94-2.06 2.06-.94-2.06-.94-.94-2.06-.94 2.06-2.06.94z\"/><path d=\"M17.41 7.96l-1.37-1.37c-.4-.4-.92-.59-1.43-.59-.52 0-1.04.2-1.43.59L10.3 9.45l-7.72 7.72c-.78.78-.78 2.05 0 2.83L4 21.41c.39.39.9.59 1.41.59.51 0 1.02-.2 1.41-.59l7.78-7.78 2.81-2.81c.8-.78.8-2.07 0-2.86zM5.41 20L4 18.59l7.72-7.72 1.47 1.35L5.41 20z\"/>\n",
              "  </svg>\n",
              "      </button>\n",
              "      \n",
              "  <style>\n",
              "    .colab-df-container {\n",
              "      display:flex;\n",
              "      flex-wrap:wrap;\n",
              "      gap: 12px;\n",
              "    }\n",
              "\n",
              "    .colab-df-convert {\n",
              "      background-color: #E8F0FE;\n",
              "      border: none;\n",
              "      border-radius: 50%;\n",
              "      cursor: pointer;\n",
              "      display: none;\n",
              "      fill: #1967D2;\n",
              "      height: 32px;\n",
              "      padding: 0 0 0 0;\n",
              "      width: 32px;\n",
              "    }\n",
              "\n",
              "    .colab-df-convert:hover {\n",
              "      background-color: #E2EBFA;\n",
              "      box-shadow: 0px 1px 2px rgba(60, 64, 67, 0.3), 0px 1px 3px 1px rgba(60, 64, 67, 0.15);\n",
              "      fill: #174EA6;\n",
              "    }\n",
              "\n",
              "    [theme=dark] .colab-df-convert {\n",
              "      background-color: #3B4455;\n",
              "      fill: #D2E3FC;\n",
              "    }\n",
              "\n",
              "    [theme=dark] .colab-df-convert:hover {\n",
              "      background-color: #434B5C;\n",
              "      box-shadow: 0px 1px 3px 1px rgba(0, 0, 0, 0.15);\n",
              "      filter: drop-shadow(0px 1px 2px rgba(0, 0, 0, 0.3));\n",
              "      fill: #FFFFFF;\n",
              "    }\n",
              "  </style>\n",
              "\n",
              "      <script>\n",
              "        const buttonEl =\n",
              "          document.querySelector('#df-f0a9ffe0-a238-4473-825a-1ac1fd5b68c4 button.colab-df-convert');\n",
              "        buttonEl.style.display =\n",
              "          google.colab.kernel.accessAllowed ? 'block' : 'none';\n",
              "\n",
              "        async function convertToInteractive(key) {\n",
              "          const element = document.querySelector('#df-f0a9ffe0-a238-4473-825a-1ac1fd5b68c4');\n",
              "          const dataTable =\n",
              "            await google.colab.kernel.invokeFunction('convertToInteractive',\n",
              "                                                     [key], {});\n",
              "          if (!dataTable) return;\n",
              "\n",
              "          const docLinkHtml = 'Like what you see? Visit the ' +\n",
              "            '<a target=\"_blank\" href=https://colab.research.google.com/notebooks/data_table.ipynb>data table notebook</a>'\n",
              "            + ' to learn more about interactive tables.';\n",
              "          element.innerHTML = '';\n",
              "          dataTable['output_type'] = 'display_data';\n",
              "          await google.colab.output.renderOutput(dataTable, element);\n",
              "          const docLink = document.createElement('div');\n",
              "          docLink.innerHTML = docLinkHtml;\n",
              "          element.appendChild(docLink);\n",
              "        }\n",
              "      </script>\n",
              "    </div>\n",
              "  </div>\n",
              "  "
            ],
            "text/plain": [
              "      Id  SepalLengthCm  ...  PetalWidthCm         Species\n",
              "0      1            5.1  ...           0.2     Iris-setosa\n",
              "1      2            4.9  ...           0.2     Iris-setosa\n",
              "2      3            4.7  ...           0.2     Iris-setosa\n",
              "3      4            4.6  ...           0.2     Iris-setosa\n",
              "4      5            5.0  ...           0.2     Iris-setosa\n",
              "..   ...            ...  ...           ...             ...\n",
              "145  146            6.7  ...           2.3  Iris-virginica\n",
              "146  147            6.3  ...           1.9  Iris-virginica\n",
              "147  148            6.5  ...           2.0  Iris-virginica\n",
              "148  149            6.2  ...           2.3  Iris-virginica\n",
              "149  150            5.9  ...           1.8  Iris-virginica\n",
              "\n",
              "[150 rows x 6 columns]"
            ]
          },
          "metadata": {},
          "execution_count": 12
        }
      ]
    },
    {
      "cell_type": "code",
      "metadata": {
        "colab": {
          "base_uri": "https://localhost:8080/"
        },
        "id": "fFV-cS5AWAWM",
        "outputId": "491a5eb6-39e6-4d5a-ff64-042e0d56fdeb"
      },
      "source": [
        "data"
      ],
      "execution_count": 13,
      "outputs": [
        {
          "output_type": "execute_result",
          "data": {
            "text/plain": [
              "array([[  1. ,   5.1,   3.5,   1.4],\n",
              "       [  2. ,   4.9,   3. ,   1.4],\n",
              "       [  3. ,   4.7,   3.2,   1.3],\n",
              "       [  4. ,   4.6,   3.1,   1.5],\n",
              "       [  5. ,   5. ,   3.6,   1.4],\n",
              "       [  6. ,   5.4,   3.9,   1.7],\n",
              "       [  7. ,   4.6,   3.4,   1.4],\n",
              "       [  8. ,   5. ,   3.4,   1.5],\n",
              "       [  9. ,   4.4,   2.9,   1.4],\n",
              "       [ 10. ,   4.9,   3.1,   1.5],\n",
              "       [ 11. ,   5.4,   3.7,   1.5],\n",
              "       [ 12. ,   4.8,   3.4,   1.6],\n",
              "       [ 13. ,   4.8,   3. ,   1.4],\n",
              "       [ 14. ,   4.3,   3. ,   1.1],\n",
              "       [ 15. ,   5.8,   4. ,   1.2],\n",
              "       [ 16. ,   5.7,   4.4,   1.5],\n",
              "       [ 17. ,   5.4,   3.9,   1.3],\n",
              "       [ 18. ,   5.1,   3.5,   1.4],\n",
              "       [ 19. ,   5.7,   3.8,   1.7],\n",
              "       [ 20. ,   5.1,   3.8,   1.5],\n",
              "       [ 21. ,   5.4,   3.4,   1.7],\n",
              "       [ 22. ,   5.1,   3.7,   1.5],\n",
              "       [ 23. ,   4.6,   3.6,   1. ],\n",
              "       [ 24. ,   5.1,   3.3,   1.7],\n",
              "       [ 25. ,   4.8,   3.4,   1.9],\n",
              "       [ 26. ,   5. ,   3. ,   1.6],\n",
              "       [ 27. ,   5. ,   3.4,   1.6],\n",
              "       [ 28. ,   5.2,   3.5,   1.5],\n",
              "       [ 29. ,   5.2,   3.4,   1.4],\n",
              "       [ 30. ,   4.7,   3.2,   1.6],\n",
              "       [ 31. ,   4.8,   3.1,   1.6],\n",
              "       [ 32. ,   5.4,   3.4,   1.5],\n",
              "       [ 33. ,   5.2,   4.1,   1.5],\n",
              "       [ 34. ,   5.5,   4.2,   1.4],\n",
              "       [ 35. ,   4.9,   3.1,   1.5],\n",
              "       [ 36. ,   5. ,   3.2,   1.2],\n",
              "       [ 37. ,   5.5,   3.5,   1.3],\n",
              "       [ 38. ,   4.9,   3.1,   1.5],\n",
              "       [ 39. ,   4.4,   3. ,   1.3],\n",
              "       [ 40. ,   5.1,   3.4,   1.5],\n",
              "       [ 41. ,   5. ,   3.5,   1.3],\n",
              "       [ 42. ,   4.5,   2.3,   1.3],\n",
              "       [ 43. ,   4.4,   3.2,   1.3],\n",
              "       [ 44. ,   5. ,   3.5,   1.6],\n",
              "       [ 45. ,   5.1,   3.8,   1.9],\n",
              "       [ 46. ,   4.8,   3. ,   1.4],\n",
              "       [ 47. ,   5.1,   3.8,   1.6],\n",
              "       [ 48. ,   4.6,   3.2,   1.4],\n",
              "       [ 49. ,   5.3,   3.7,   1.5],\n",
              "       [ 50. ,   5. ,   3.3,   1.4],\n",
              "       [ 51. ,   7. ,   3.2,   4.7],\n",
              "       [ 52. ,   6.4,   3.2,   4.5],\n",
              "       [ 53. ,   6.9,   3.1,   4.9],\n",
              "       [ 54. ,   5.5,   2.3,   4. ],\n",
              "       [ 55. ,   6.5,   2.8,   4.6],\n",
              "       [ 56. ,   5.7,   2.8,   4.5],\n",
              "       [ 57. ,   6.3,   3.3,   4.7],\n",
              "       [ 58. ,   4.9,   2.4,   3.3],\n",
              "       [ 59. ,   6.6,   2.9,   4.6],\n",
              "       [ 60. ,   5.2,   2.7,   3.9],\n",
              "       [ 61. ,   5. ,   2. ,   3.5],\n",
              "       [ 62. ,   5.9,   3. ,   4.2],\n",
              "       [ 63. ,   6. ,   2.2,   4. ],\n",
              "       [ 64. ,   6.1,   2.9,   4.7],\n",
              "       [ 65. ,   5.6,   2.9,   3.6],\n",
              "       [ 66. ,   6.7,   3.1,   4.4],\n",
              "       [ 67. ,   5.6,   3. ,   4.5],\n",
              "       [ 68. ,   5.8,   2.7,   4.1],\n",
              "       [ 69. ,   6.2,   2.2,   4.5],\n",
              "       [ 70. ,   5.6,   2.5,   3.9],\n",
              "       [ 71. ,   5.9,   3.2,   4.8],\n",
              "       [ 72. ,   6.1,   2.8,   4. ],\n",
              "       [ 73. ,   6.3,   2.5,   4.9],\n",
              "       [ 74. ,   6.1,   2.8,   4.7],\n",
              "       [ 75. ,   6.4,   2.9,   4.3],\n",
              "       [ 76. ,   6.6,   3. ,   4.4],\n",
              "       [ 77. ,   6.8,   2.8,   4.8],\n",
              "       [ 78. ,   6.7,   3. ,   5. ],\n",
              "       [ 79. ,   6. ,   2.9,   4.5],\n",
              "       [ 80. ,   5.7,   2.6,   3.5],\n",
              "       [ 81. ,   5.5,   2.4,   3.8],\n",
              "       [ 82. ,   5.5,   2.4,   3.7],\n",
              "       [ 83. ,   5.8,   2.7,   3.9],\n",
              "       [ 84. ,   6. ,   2.7,   5.1],\n",
              "       [ 85. ,   5.4,   3. ,   4.5],\n",
              "       [ 86. ,   6. ,   3.4,   4.5],\n",
              "       [ 87. ,   6.7,   3.1,   4.7],\n",
              "       [ 88. ,   6.3,   2.3,   4.4],\n",
              "       [ 89. ,   5.6,   3. ,   4.1],\n",
              "       [ 90. ,   5.5,   2.5,   4. ],\n",
              "       [ 91. ,   5.5,   2.6,   4.4],\n",
              "       [ 92. ,   6.1,   3. ,   4.6],\n",
              "       [ 93. ,   5.8,   2.6,   4. ],\n",
              "       [ 94. ,   5. ,   2.3,   3.3],\n",
              "       [ 95. ,   5.6,   2.7,   4.2],\n",
              "       [ 96. ,   5.7,   3. ,   4.2],\n",
              "       [ 97. ,   5.7,   2.9,   4.2],\n",
              "       [ 98. ,   6.2,   2.9,   4.3],\n",
              "       [ 99. ,   5.1,   2.5,   3. ],\n",
              "       [100. ,   5.7,   2.8,   4.1],\n",
              "       [101. ,   6.3,   3.3,   6. ],\n",
              "       [102. ,   5.8,   2.7,   5.1],\n",
              "       [103. ,   7.1,   3. ,   5.9],\n",
              "       [104. ,   6.3,   2.9,   5.6],\n",
              "       [105. ,   6.5,   3. ,   5.8],\n",
              "       [106. ,   7.6,   3. ,   6.6],\n",
              "       [107. ,   4.9,   2.5,   4.5],\n",
              "       [108. ,   7.3,   2.9,   6.3],\n",
              "       [109. ,   6.7,   2.5,   5.8],\n",
              "       [110. ,   7.2,   3.6,   6.1],\n",
              "       [111. ,   6.5,   3.2,   5.1],\n",
              "       [112. ,   6.4,   2.7,   5.3],\n",
              "       [113. ,   6.8,   3. ,   5.5],\n",
              "       [114. ,   5.7,   2.5,   5. ],\n",
              "       [115. ,   5.8,   2.8,   5.1],\n",
              "       [116. ,   6.4,   3.2,   5.3],\n",
              "       [117. ,   6.5,   3. ,   5.5],\n",
              "       [118. ,   7.7,   3.8,   6.7],\n",
              "       [119. ,   7.7,   2.6,   6.9],\n",
              "       [120. ,   6. ,   2.2,   5. ],\n",
              "       [121. ,   6.9,   3.2,   5.7],\n",
              "       [122. ,   5.6,   2.8,   4.9],\n",
              "       [123. ,   7.7,   2.8,   6.7],\n",
              "       [124. ,   6.3,   2.7,   4.9],\n",
              "       [125. ,   6.7,   3.3,   5.7],\n",
              "       [126. ,   7.2,   3.2,   6. ],\n",
              "       [127. ,   6.2,   2.8,   4.8],\n",
              "       [128. ,   6.1,   3. ,   4.9],\n",
              "       [129. ,   6.4,   2.8,   5.6],\n",
              "       [130. ,   7.2,   3. ,   5.8],\n",
              "       [131. ,   7.4,   2.8,   6.1],\n",
              "       [132. ,   7.9,   3.8,   6.4],\n",
              "       [133. ,   6.4,   2.8,   5.6],\n",
              "       [134. ,   6.3,   2.8,   5.1],\n",
              "       [135. ,   6.1,   2.6,   5.6],\n",
              "       [136. ,   7.7,   3. ,   6.1],\n",
              "       [137. ,   6.3,   3.4,   5.6],\n",
              "       [138. ,   6.4,   3.1,   5.5],\n",
              "       [139. ,   6. ,   3. ,   4.8],\n",
              "       [140. ,   6.9,   3.1,   5.4],\n",
              "       [141. ,   6.7,   3.1,   5.6],\n",
              "       [142. ,   6.9,   3.1,   5.1],\n",
              "       [143. ,   5.8,   2.7,   5.1],\n",
              "       [144. ,   6.8,   3.2,   5.9],\n",
              "       [145. ,   6.7,   3.3,   5.7],\n",
              "       [146. ,   6.7,   3. ,   5.2],\n",
              "       [147. ,   6.3,   2.5,   5. ],\n",
              "       [148. ,   6.5,   3. ,   5.2],\n",
              "       [149. ,   6.2,   3.4,   5.4],\n",
              "       [150. ,   5.9,   3. ,   5.1]])"
            ]
          },
          "metadata": {},
          "execution_count": 13
        }
      ]
    },
    {
      "cell_type": "code",
      "metadata": {
        "colab": {
          "base_uri": "https://localhost:8080/",
          "height": 265
        },
        "id": "0l7JgDM8WAWV",
        "outputId": "670ca02a-92dc-442d-9a1d-df569c02ea2d"
      },
      "source": [
        "plt.scatter(data[:,0], data[:,1])\n",
        "plt.show()"
      ],
      "execution_count": 14,
      "outputs": [
        {
          "output_type": "display_data",
          "data": {
            "image/png": "[encoded data removed]",
            "text/plain": [
              "<Figure size 432x288 with 1 Axes>"
            ]
          },
          "metadata": {
            "needs_background": "light"
          }
        }
      ]
    },
    {
      "cell_type": "code",
      "metadata": {
        "id": "Z4YMeptjWAWX"
      },
      "source": [
        "scaler = StandardScaler()\n",
        "data_standard= scaler.fit_transform(data)"
      ],
      "execution_count": 15,
      "outputs": []
    },
    {
      "cell_type": "code",
      "metadata": {
        "id": "zur9Qq3NWAWa"
      },
      "source": [
        "data_iris_setosa=data_iris.loc[data_iris[\"Species\"]==\"Iris-setosa\"]\n",
        "data_iris_virginica=data_iris.loc[data_iris[\"Species\"]==\"Iris-virginica\"]\n",
        "data_iris_versicolor=data_iris.loc[data_iris[\"Species\"]==\"Iris-versicolor\"]"
      ],
      "execution_count": 16,
      "outputs": []
    },
    {
      "cell_type": "code",
      "metadata": {
        "id": "bp0qjCX_WAWd"
      },
      "source": [
        ""
      ],
      "execution_count": null,
      "outputs": []
    },
    {
      "cell_type": "code",
      "metadata": {
        "colab": {
          "base_uri": "https://localhost:8080/",
          "height": 295
        },
        "id": "FSUmuKktWAWg",
        "outputId": "d42c073f-7f84-4dd9-e31f-cc1b274ff4a3"
      },
      "source": [
        "from sklearn.cluster import KMeans\n",
        "wcss = []\n",
        "\n",
        "for i in range(1, 11):\n",
        "    kmeans = KMeans(n_clusters = i, init = 'k-means++', max_iter = 300, n_init = 10, random_state = 0)\n",
        "    kmeans.fit(data)\n",
        "    wcss.append(kmeans.inertia_)\n",
        "plt.plot(range(1, 11), wcss)\n",
        "plt.title('The elbow method')\n",
        "plt.xlabel('Number of clusters')\n",
        "plt.ylabel('WCSS')\n",
        "plt.show()"
      ],
      "execution_count": 17,
      "outputs": [
        {
          "output_type": "display_data",
          "data": {
            "image/png": "[encoded data removed]",
            "text/plain": [
              "<Figure size 432x288 with 1 Axes>"
            ]
          },
          "metadata": {
            "needs_background": "light"
          }
        }
      ]
    },
    {
      "cell_type": "code",
      "metadata": {
        "colab": {
          "base_uri": "https://localhost:8080/"
        },
        "id": "QQRgMY-m3qrM",
        "outputId": "b6ebf8fd-b137-4976-80fe-c95dd001f276"
      },
      "source": [
        "print(wcss)"
      ],
      "execution_count": 18,
      "outputs": [
        {
          "output_type": "stream",
          "name": "stdout",
          "text": [
            "[281831.5446666667, 70581.38080000003, 31320.71120000001, 17758.792503556186, 11468.96874702381, 7921.8634730769245, 5911.632365518541, 4541.979023391813, 3571.9110955882347, 2943.933100840336]\n"
          ]
        }
      ]
    },
    {
      "cell_type": "code",
      "metadata": {
        "id": "6DOJqUlw3yoL"
      },
      "source": [
        ""
      ],
      "execution_count": null,
      "outputs": []
    },
    {
      "cell_type": "code",
      "metadata": {
        "id": "vxbRER6FWAWm"
      },
      "source": [
        "kmeans = KMeans(n_clusters = 3, init = 'k-means++', max_iter = 300, n_init = 10, random_state = 0)\n",
        "kmeans_predict = kmeans.fit_predict(data)"
      ],
      "execution_count": 19,
      "outputs": []
    },
    {
      "cell_type": "code",
      "metadata": {
        "id": "n0uFqiIB8152",
        "colab": {
          "base_uri": "https://localhost:8080/"
        },
        "outputId": "c98203cd-dffa-4412-b4ee-a49257625111"
      },
      "source": [
        "print(kmeans.fit_predict(data))"
      ],
      "execution_count": 20,
      "outputs": [
        {
          "output_type": "stream",
          "name": "stdout",
          "text": [
            "[0 0 0 0 0 0 0 0 0 0 0 0 0 0 0 0 0 0 0 0 0 0 0 0 0 0 0 0 0 0 0 0 0 0 0 0 0\n",
            " 0 0 0 0 0 0 0 0 0 0 0 0 0 2 2 2 2 2 2 2 2 2 2 2 2 2 2 2 2 2 2 2 2 2 2 2 2\n",
            " 2 2 2 2 2 2 2 2 2 2 2 2 2 2 2 2 2 2 2 2 2 2 2 2 2 2 1 1 1 1 1 1 1 1 1 1 1\n",
            " 1 1 1 1 1 1 1 1 1 1 1 1 1 1 1 1 1 1 1 1 1 1 1 1 1 1 1 1 1 1 1 1 1 1 1 1 1\n",
            " 1 1]\n"
          ]
        }
      ]
    },
    {
      "cell_type": "code",
      "metadata": {
        "colab": {
          "base_uri": "https://localhost:8080/",
          "height": 280
        },
        "id": "tS7pBvJiWAWp",
        "outputId": "5cbfc4e6-943e-4e3a-ba6f-e26b0d7bfd68"
      },
      "source": [
        "\n",
        "plt.scatter(data[kmeans_predict == 0, 0], data[kmeans_predict == 0, 1], s = 100, c = 'blue', label = 'Iris-setosa')\n",
        "plt.scatter(data[kmeans_predict == 1, 0], data[kmeans_predict == 1, 1], s = 100, c = 'orange', label = 'Iris-versicolour')\n",
        "plt.scatter(data[kmeans_predict == 2, 0], data[kmeans_predict == 2, 1], s = 100, c = 'green', label = 'Iris-virginica')\n",
        "\n",
        "plt.scatter(kmeans.cluster_centers_[:, 0], kmeans.cluster_centers_[:,1], s = 100, c = 'red', label = 'Centroids')\n",
        "plt.title(\"Clustter Iris\")\n",
        "plt.legend()\n",
        "plt.show()"
      ],
      "execution_count": 21,
      "outputs": [
        {
          "output_type": "display_data",
          "data": {
            "image/png": "[encoded data removed]",
            "text/plain": [
              "<Figure size 432x288 with 1 Axes>"
            ]
          },
          "metadata": {
            "needs_background": "light"
          }
        }
      ]
    },
    {
      "cell_type": "code",
      "metadata": {
        "id": "TxNRLy5U7tQt"
      },
      "source": [
        ""
      ],
      "execution_count": null,
      "outputs": []
    }
  ]
}